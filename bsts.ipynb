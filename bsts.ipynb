{
 "cells": [
  {
   "cell_type": "code",
   "execution_count": 1,
   "metadata": {},
   "outputs": [],
   "source": [
    "import pandas as pd\n",
    "import numpy as np\n",
    "import pymc as pm\n",
    "import arviz as az\n",
    "import matplotlib.pyplot as plt"
   ]
  },
  {
   "cell_type": "code",
   "execution_count": 3,
   "metadata": {},
   "outputs": [],
   "source": [
    "# data prepratation\n",
    "df = pd.read_csv('./data/co2-mm-mlo.csv', parse_dates=['Date'])\n",
    "df = df.sort_values(by='Date').reset_index(drop=True)\n",
    "df['time_idx'] = np.arange(len(df))\n",
    "df['month'] = df['Date'].dt.month\n",
    "y = df['Interpolated'].values"
   ]
  },
  {
   "cell_type": "code",
   "execution_count": null,
   "metadata": {},
   "outputs": [
    {
     "name": "stderr",
     "output_type": "stream",
     "text": [
      "/Users/nika/code/kabitalama/MaunaLoa-BSTS-PyMC/.venv/lib/python3.12/site-packages/pymc/distributions/timeseries.py:297: UserWarning: Initial distribution not specified, defaulting to `Normal.dist(0, 100)`.You can specify an init_dist manually to suppress this warning.\n",
      "  warnings.warn(\n"
     ]
    }
   ],
   "source": [
    "with pm.Model() as bsts_model:\n",
    "    # Hyperpriors for standard deviations -- Weakly Informative\n",
    "    sigma_level = pm.HalfNormal(\"sigma_level\", sigma=10.0)\n",
    "    sigma_obs   = pm.HalfNormal(\"sigma_obs\", sigma=10.0)\n",
    "    \n",
    "    # Local Trend Component: Gaussian Random Walk\n",
    "     # Initial level (unregistered, separate from the random walk increments)\n",
    "    mu0 = pm.Normal(\"mu0\", mu=y[0], sigma=20.0)\n",
    "    # Define increments for the random walk (for time steps 1 to T-1)\n",
    "    mu_rw = pm.GaussianRandomWalk(\"mu_rw\", sigma=sigma_level, shape=len(df)-1)\n",
    "    # Construct the full latent level by concatenating mu0 with the cumulative sum of increments\n",
    "    mu = pm.Deterministic(\"mu\", pm.math.concatenate([[mu0], mu0 + pm.math.cumsum(mu_rw)]))\n",
    "    \n",
    "    # Define one seasonal parameter per month (12 in total) and impose a sum-to-zero constraint.\n",
    "    seasonal_raw = pm.Normal(\"seasonal_raw\", mu=0.0, sigma=10.0, shape=12)\n",
    "    seasonal_effect = pm.Deterministic(\"seasonal_effect\", seasonal_raw - pm.math.mean(seasonal_raw))\n",
    "    \n",
    "    # Map each observation to its corresponding monthly seasonal effect.\n",
    "    month_effect = seasonal_effect[df['month'].values - 1]  # adjust for 0-indexing\n",
    "    \n",
    "    # The expected CO2 value is the sum of the latent trend and the seasonal effect.\n",
    "    mu_obs = mu + month_effect\n",
    "    \n",
    "    # Observation model\n",
    "    y_obs = pm.Normal(\"y_obs\", mu=mu_obs, sigma=sigma_obs, observed=y)\n",
    "    \n",
    "    \n",
    "    trace = pm.sample(2000, tune=2000, target_accept=0.9, return_inferencedata=True)"
   ]
  },
  {
   "cell_type": "code",
   "execution_count": null,
   "metadata": {},
   "outputs": [],
   "source": []
  },
  {
   "cell_type": "code",
   "execution_count": null,
   "metadata": {},
   "outputs": [],
   "source": []
  },
  {
   "cell_type": "code",
   "execution_count": null,
   "metadata": {},
   "outputs": [],
   "source": [
    "# ----------------------------------------------------\n",
    "# 2. Modified BSTS Model with a Local Linear Trend\n",
    "# ----------------------------------------------------\n",
    "with pm.Model() as bsts_local_linear:\n",
    "    # Hyperpriors for noise terms\n",
    "    sigma_level = pm.HalfNormal(\"sigma_level\", sigma=10.0)\n",
    "    sigma_slope = pm.HalfNormal(\"sigma_slope\", sigma=1.0)\n",
    "    sigma_obs   = pm.HalfNormal(\"sigma_obs\", sigma=10.0)\n",
    "    \n",
    "    # Initial level and slope\n",
    "    level0 = pm.Normal(\"level0\", mu=y[0], sigma=20.0)\n",
    "    slope0 = pm.Normal(\"slope0\", mu=0.0, sigma=1.0)\n",
    "    \n",
    "    # Slope evolves as a Gaussian Random Walk (starting from slope0)\n",
    "    # We simulate this by concatenating the initial slope with the random walk increments.\n",
    "    rw_slope = pm.GaussianRandomWalk(\"rw_slope\", sigma=sigma_slope, shape=len(df)-1)\n",
    "    slope = pm.Deterministic(\"slope\", pm.math.concatenate([[slope0], rw_slope]))\n",
    "    \n",
    "    # Level evolves according to the previous level plus the previous slope, plus error.\n",
    "    # Compute the cumulative effect of the slope.\n",
    "    level = pm.Deterministic(\"level\", level0 + pm.math.cumsum(slope[:-1]))\n",
    "    \n",
    "    # Seasonal component (as before)\n",
    "    seasonal_raw = pm.Normal(\"seasonal_raw\", mu=0.0, sigma=10.0, shape=12)\n",
    "    seasonal_effect = pm.Deterministic(\"seasonal_effect\", seasonal_raw - pm.math.mean(seasonal_raw))\n",
    "    month_effect = seasonal_effect[df['month'].values - 1]\n",
    "    \n",
    "    # The expected observation combines the level and seasonal effect.\n",
    "    mu_obs = level + month_effect\n",
    "    \n",
    "    # Observation likelihood\n",
    "    y_obs = pm.Normal(\"y_obs\", mu=mu_obs, sigma=sigma_obs, observed=y[:-1])\n",
    "    \n",
    "    # Sample from the posterior\n",
    "    trace_ll = pm.sample(2000, tune=2000, target_accept=0.9, return_inferencedata=True)\n"
   ]
  },
  {
   "cell_type": "code",
   "execution_count": null,
   "metadata": {},
   "outputs": [],
   "source": []
  }
 ],
 "metadata": {
  "kernelspec": {
   "display_name": ".venv",
   "language": "python",
   "name": "python3"
  },
  "language_info": {
   "codemirror_mode": {
    "name": "ipython",
    "version": 3
   },
   "file_extension": ".py",
   "mimetype": "text/x-python",
   "name": "python",
   "nbconvert_exporter": "python",
   "pygments_lexer": "ipython3",
   "version": "3.12.2"
  }
 },
 "nbformat": 4,
 "nbformat_minor": 2
}
